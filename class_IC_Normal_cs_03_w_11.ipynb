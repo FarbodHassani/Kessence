{
 "cells": [
  {
   "cell_type": "markdown",
   "metadata": {},
   "source": [
    "# Notebook for comparison beween hi-class and class and "
   ]
  },
  {
   "cell_type": "code",
   "execution_count": 9,
   "metadata": {
    "collapsed": true
   },
   "outputs": [],
   "source": [
    "import numpy as np\n",
    "import matplotlib.pylab as plt\n",
    "# from scipy.interpolate import interp1d\n",
    "from pylab import rcParams\n",
    "  \n",
    "# Scale the RGB values to the [0, 1] range, which is the format matplotlib accepts.    \n",
    "\n",
    "plt.rcParams.update(plt.rcParamsDefault)\n",
    "\n",
    "# plt.style.use('seaborn-paper')\n",
    "plt.rcParams['font.serif'] = 'Ubuntu'"
   ]
  },
  {
   "cell_type": "markdown",
   "metadata": {},
   "source": [
    "# Adding files"
   ]
  },
  {
   "cell_type": "code",
   "execution_count": 10,
   "metadata": {},
   "outputs": [],
   "source": [
    "#Class output  cs2=1.e-6, cs=10^-3\n",
    "address=\"./Class_Raw/Class_cs_e3_w1.1/\"\n",
    "z_list=[100.0 , 50.0, 20.0, 10.0 , 6.0 , 5.0 , 4.0, 3.0, 2.0 , 1.0 , 0.0001, 0.00001, 0.000001 ,0.0]\n",
    "z_range=np.shape(z_list)[0]\n",
    "Class_newt_cs_e3_zall=[];\n",
    "for i in range(1,z_range+1):\n",
    "    Class_newt_cs_e3_zall.append(np.loadtxt(address+\"class_kess_cs_e3_w_11_newt_z\"+str(i)+\"_tk.dat\"))\n",
    "\n",
    "# Class Background  cs2=1.e-6\n",
    "Bg_class_cs_3=np.loadtxt(\"./Class_Raw/Class_cs_e3_w1.1/class_kess_cs_e3_w_11_newt_background.dat\")\n",
    "# np.shape(Class_newt_cs_e3_zall)"
   ]
  },
  {
   "cell_type": "markdown",
   "metadata": {},
   "source": [
    "# Hubble in class unit and Background checks!"
   ]
  },
  {
   "cell_type": "code",
   "execution_count": 11,
   "metadata": {},
   "outputs": [
    {
     "data": {
      "image/png": "[encoded data removed]",
      "text/plain": [
       "<matplotlib.figure.Figure at 0x1140f5fd0>"
      ]
     },
     "metadata": {},
     "output_type": "display_data"
    }
   ],
   "source": [
    "#Omega_radiation: Bg_class_cs_e3[4619,13]/Bg_class_cs_e3[4619,14]  + Bg_class_cs_e3[4619,8]/Bg_class_cs_e3[4619,14]\n",
    "# H in unit Mpc!\n",
    "h=0.67556;\n",
    "c=2.99792458*1.e5; #Km/s\n",
    "H0=100*h/c;\n",
    "# print(\"H0[1/Mpc]=100h/c: \",H0);\n",
    "# k_pivot = 0.05                      # in units of inverse Mpc (not h/Mpc!)\n",
    "# A_s = 2.215e-9\n",
    "# n_s = 0.9619\n",
    "\n",
    "\n",
    "# # cosmological parameters\n",
    "\n",
    "# h           = 0.67556\n",
    "# omega_b     = 0.022032\n",
    "# omega_cdm   = 0.12038\n",
    "# T_cmb       = 2.7255                # in units of K\n",
    "# N_ur        = 3.046\n",
    "# cs2_fld     = 1.e-6\n",
    "# Omega_fld   = 0.687862\n",
    "# w0_fld      = -0.9\n",
    "def Hubble_conf_Mpc(a):\n",
    "    c=2.99792458*1.e5;h=0.67556;H0=100*h/c;w=-1.1;\n",
    "    Omega_b=0.022032/h/h; Omega_cdm=0.12038/h/h;\n",
    "    Omega_m=Omega_b+Omega_cdm; Omega_Lambda=0;\n",
    "    Omega_rad=9.1671353942930788e-05; Omega_kessence=1.-Omega_m-Omega_rad;\n",
    "    return H0*np.sqrt(Omega_m*(a**-3)+Omega_rad*(a**-4)+Omega_kessence*(a**(-3*(1+w))))*a\n",
    "Hclass_cs_e3=Bg_class_cs_3[:,3]\n",
    "aclass_cs_e3=1./(1+Bg_class_cs_3[:,0])\n",
    "a=np.arange(0.001,2,0.0001)\n",
    "plt.loglog(aclass_cs_e3,Bg_class_cs_3[:,3]*aclass_cs_e3,color=\"red\",label=\"Class\")\n",
    "plt.loglog(aclass_cs_e3,Hubble_conf_Mpc(aclass_cs_e3),color=\"blue\",label=\"Formlua\")\n",
    "\n",
    "plt.loglog(aclass_cs_e3,2.*np.abs(Hclass_cs_e3[:]*aclass_cs_e3-Hubble_conf_Mpc(aclass_cs_e3))/(Hclass_cs_e3[:]*aclass_cs_e3+Hubble_conf_Mpc(aclass_cs_e3))\n",
    "           ,color=\"green\",label=\"Relative error\")\n",
    "\n",
    "# plt.loglog(a,H0*myHa,color=\"green\",label=\"FormluaII\")\n",
    "\n",
    "Hubble_conf_Mpc(a)\n",
    "plt.xlim(1e-3,2)\n",
    "# plt.ylim(1e-8,1e-1)\n",
    "\n",
    "plt.legend()\n",
    "plt.show()"
   ]
  },
  {
   "cell_type": "markdown",
   "metadata": {},
   "source": [
    "# File making, cs=10^-3, cs2=1.e-6"
   ]
  },
  {
   "cell_type": "code",
   "execution_count": 13,
   "metadata": {},
   "outputs": [
    {
     "name": "stdout",
     "output_type": "stream",
     "text": [
      "(0, 100.0)\n",
      "(1, 50.0)\n",
      "(2, 20.0)\n",
      "(3, 10.0)\n",
      "(4, 6.0)\n",
      "(5, 5.0)\n",
      "(6, 4.0)\n",
      "(7, 3.0)\n",
      "(8, 2.0)\n",
      "(9, 1.0)\n",
      "(10, 0.0001)\n",
      "(11, 1e-05)\n",
      "(12, 1e-06)\n",
      "(13, 0.0)\n"
     ]
    }
   ],
   "source": [
    "w=-1.1;\n",
    "# h=0.67;\n",
    "# As=2.215*10.e-9;\n",
    "# ns=0.96;\n",
    "# kp=0.05/h;\n",
    "cs2=0.000001;\n",
    "\n",
    "# List of scale factor\n",
    "H_conf_zall_list=[]\n",
    "a_all=[];\n",
    "for i in range (z_range):\n",
    "    \n",
    "    H_conf_zall_list.append(Hubble_conf_Mpc(1./(1.+z_list[i])))\n",
    "    a_all=(1./(1.+z_list[i]))\n",
    "\n",
    "# List of scale factor\n",
    "pi_Class_newt_cs_e3_zall=[]\n",
    "pi_prime_Class_newt_cs_e3_zall=[]\n",
    "# \\pi_conf in Newtonian in class : -(-\\theta/k^2) pi here is pi_conf! k unit should be in 1/Mpc.\n",
    "#K=1/Mpc and theta itself is in Mpc-1 so pi is in Mpc unit! and the conversion.\n",
    "#Note that in the definition of \\theta in terms of \\pi, it has a negative sign and in Fourier space becomes + sign!\n",
    "for i in range (z_range):\n",
    "    pi_Class_newt_cs_e3_zall.append(Class_newt_cs_e3_zall[i][:,12]/((Class_newt_cs_e3_zall[i][:,0]*h)**2));\n",
    "# pi_class_Newt_cs6_z0=Class_newt_cs6_z0[:,12]/((Class_newt_cs6_z0[:,0]*h)**2);\n",
    "\n",
    "#\\pi_v in class\n",
    "# Psi is Class_newt_z100[:,7] and delta=Class_newt_z100[:,4]\n",
    "#pi'_conf in class according to the formula: \\delta*(cs2/1+w) + \\Psi + 3 H_conf cs2 \\pi - H_conf \\pi\n",
    "    pi_prime_Class_newt_cs_e3_zall.append(cs2*Class_newt_cs_e3_zall[i][:,4]/(1.+w) + H_conf_zall_list[i] * pi_Class_newt_cs_e3_zall[i]*(3.*cs2-1.) + Class_newt_cs_e3_zall[i][:,8]) ;\n",
    "#     print(np.sum(Class_newt_cs_e3_zall[0]-Class_newt_cs_e3_z100))\n",
    "#Making file k, \\pi_newt, \\pi'_newt, \\delta_newt, \\theta_newt, \\Phi, delta_matter, Hubblez_conf\n",
    "    Class_z_cs_e3=np.zeros((np.shape(Class_newt_cs_e3_zall[i])[0],9))\n",
    "\n",
    "    Comments_columns=\"# Transfer functions T_i(k) for kessence field (normalized to initial curvature=1 at z= \"+str(z_list[i])+\" \\\n",
    "         # for k=1.05469e-05 to 239.653 h/Mpc, \\\n",
    "         #  number of wavenumbers equal to 199\\\n",
    "         # kessence model with w=-1.1 , $cs^2$= \"+str(cs2)+\"     \\\n",
    "         # d_i   stands for (delta rho_i/rho_i)(k,z) with above normalization \\\n",
    "         # d_tot stands for (delta rho_tot/rho_tot)(k,z) with rho_Lambda NOT included in rho_tot\\\n",
    "         # (note that this differs from the transfer function output from CAMB/CMBFAST, which gives the same\\\n",
    "         #  quantities divided by -k^2 with k in Mpc^-1; use format=camb to match CAMB)\\\n",
    "         # t_i   stands for theta_i(k,z) with above normalization \\\n",
    "         # t_tot stands for (sum_i [rho_i+p_i] theta_i)/(sum_i [rho_i+p_i]))(k,z)) \\\n",
    "         # k here is h/Mpc pi_conf (scalar field in conformal time) is in Mpc pi'_conf in dimensionless  \\\n",
    "         # Hubble is conformal hubble which is normalized to H0 \\\n",
    "         # d_kess_pi means \\pi_conf  in Newtonian gauge and in unit [Mpc] and t_kess_zeta means \\zeta = \\pi'+H pi -\\Psi which is dimensionless \\\n",
    "\\n   \\n \\\n",
    "1:k (h/Mpc)              2:pi                    3:zeta                    4:delta_fld                 5:theta_fld                  6:psi                   7:delta_tot                 8:delta_cdm                 9:H_conf[1/Mpc]                              \"\n",
    "\n",
    "\n",
    "    Class_z_cs_e3[:,0]=Class_newt_cs_e3_zall[i][:,0]    #k [h/Mpc] in class output\n",
    "    Class_z_cs_e3[:,1]=pi_Class_newt_cs_e3_zall[i][:]    # pi_newt conformal\n",
    "    Class_z_cs_e3[:,2]=pi_prime_Class_newt_cs_e3_zall[i][:]+ H_conf_zall_list[i] * pi_Class_newt_cs_e3_zall[i]- Class_newt_cs_e3_zall[i][:,8]   #zeta_newt= \\pi'_newt +\\mathH \\pi -\\Psi \n",
    "    Class_z_cs_e3[:,3]=Class_newt_cs_e3_zall[i][:,4]   #Delta_fld\n",
    "    Class_z_cs_e3[:,4]=Class_newt_cs_e3_zall[i][:,12]  #Theta_fld\n",
    "    Class_z_cs_e3[:,5]=Class_newt_cs_e3_zall[i][:,8]   #Psi\n",
    "    Class_z_cs_e3[:,6]=Class_newt_cs_e3_zall[i][:,6]    #delta_tot =(rho_cdm* delta_cdm + rho_b * delta_b)/rho_tot\n",
    "    Class_z_cs_e3[:,7]=Class_newt_cs_e3_zall[i][:,3]    #delta_tot =delta_cdm\n",
    "    Class_z_cs_e3[:,8]=H_conf_zall_list[i]#Hubblez_conf\n",
    "    \n",
    "    print(i,z_list[i])\n",
    "    np.savetxt('Class_kess_cs_e3_w_11_z'+str(z_list[i])+'_newt.dat',Class_z_cs_e3, fmt='%.12e', delimiter='\\t', newline='\\n',header=Comments_columns)"
   ]
  },
  {
   "cell_type": "code",
   "execution_count": null,
   "metadata": {
    "collapsed": true
   },
   "outputs": [],
   "source": []
  }
 ],
 "metadata": {
  "anaconda-cloud": {},
  "kernelspec": {
   "display_name": "Python 2",
   "language": "python",
   "name": "python2"
  },
  "language_info": {
   "codemirror_mode": {
    "name": "ipython",
    "version": 2
   },
   "file_extension": ".py",
   "mimetype": "text/x-python",
   "name": "python",
   "nbconvert_exporter": "python",
   "pygments_lexer": "ipython2",
   "version": "2.7.14"
  }
 },
 "nbformat": 4,
 "nbformat_minor": 1
}
